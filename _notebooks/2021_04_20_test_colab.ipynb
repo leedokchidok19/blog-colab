{
  "nbformat": 4,
  "nbformat_minor": 0,
  "metadata": {
    "colab": {
      "name": "2021-04-20-test_colab.ipynb",
      "private_outputs": true,
      "provenance": [],
      "collapsed_sections": []
    },
    "kernelspec": {
      "name": "python3",
      "display_name": "Python 3"
    },
    "language_info": {
      "name": "python"
    }
  },
  "cells": [
    {
      "cell_type": "markdown",
      "metadata": {
        "id": "MSIG9INoXNUC"
      },
      "source": [
        "# \"Test Colab\"\n",
        "> \"colab 학습을 위한 테스트 파일\"\n",
        "\n",
        "- toc:true\n",
        "- branch: master\n",
        "- badges: true\n",
        "- comments: true\n",
        "- author: leedokchidok\n",
        "- categories: [jupyter, colab, test]"
      ]
    },
    {
      "cell_type": "code",
      "metadata": {
        "id": "ksMKVjl8z2-y"
      },
      "source": [
        "  print('python' + ' ' + 'programming')\n",
        "  print('welcome to python!' * 2)\n",
        "  mystr = 'python is free and open source.'\n",
        "  print(mystr[10:14], mystr[19:23])"
      ],
      "execution_count": null,
      "outputs": []
    },
    {
      "cell_type": "code",
      "metadata": {
        "id": "2kgQQsKe0fKH"
      },
      "source": [
        "num = int(input('Enter a number: '))\n",
        "factorial = 1\n",
        "for i in range(1, num+1): \n",
        "    # fill this blank\n",
        "    factorial *= i\n",
        "print('The factorial of', num, 'is', factorial)\n",
        "# Enter a nuber: 7\n",
        "# The factorial of 7 is 5040"
      ],
      "execution_count": null,
      "outputs": []
    },
    {
      "cell_type": "code",
      "metadata": {
        "id": "OIN4afck5yGR"
      },
      "source": [
        "for i in range(5, 0, -1):\n",
        "    for j in range(0, i):\n",
        "        print('*', end='')\n",
        "    print('')"
      ],
      "execution_count": null,
      "outputs": []
    },
    {
      "cell_type": "code",
      "metadata": {
        "id": "uN58Yl9I_OOI"
      },
      "source": [
        "#Enter the Low Value : 15\n",
        "#Enter the High Value : 210\n",
        "'''\n",
        "17 19 21 23 25 27 29 31 33 35 37 39 41 43 45 47 49 51 53 55 57 59 61 63 65 67 69 71 73 75 77\n",
        "79 81 83 85 87 89 91 93 95 97 99 101 103 105 107 109 111 113 115 117 119 121 123 125 127 129 131 133 135 137\n",
        "139 141 143 145 147 149 151 153 155 157 159 161 163 165 167 169 171 173 175 177 179 181 183 185 187 189 191 193 195\n",
        "197 199\n",
        "'''\n",
        "low = int(input('Enter the Low Value : '))\n",
        "high = int(input('Enter the High Value : '))\n",
        "\n",
        "for i in range(low+1, high):\n",
        "    is_prime = 1\n",
        "    for j in range(2, i): # 2 ~ (i-1)\n",
        "        if i%j==0: # i is not a prime number\n",
        "            is_prime = 0\n",
        "            break # break가 걸린 if문 바로 위까지 break\n",
        "    # break 다음 실행\n",
        "    # prime num 확인 1. boolean\n",
        "    if is_prime == 1: # i is a prime num\n",
        "        print(i, end=\" \")\n",
        "print() # 구분\n",
        "# 2. for else\n",
        "for i in range(low+1, high):\n",
        "    is_prime = 1\n",
        "    for j in range(2, i): # 2 ~ (i-1)\n",
        "        if i%j==0: # i is not a prime number\n",
        "            is_prime = 0\n",
        "            break # break가 걸린 if문 바로 위까지 break\n",
        "    else:\n",
        "        print(i, end=\" \") # i is a prime num\n",
        "    # break 다음 실행"
      ],
      "execution_count": null,
      "outputs": []
    },
    {
      "cell_type": "code",
      "metadata": {
        "id": "gC2OPyGHDVYL"
      },
      "source": [
        ""
      ],
      "execution_count": null,
      "outputs": []
    }
  ]
}